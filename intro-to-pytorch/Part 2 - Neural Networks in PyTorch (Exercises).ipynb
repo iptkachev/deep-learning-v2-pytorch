{
 "cells": [
  {
   "cell_type": "markdown",
   "metadata": {},
   "source": [
    "# Neural networks with PyTorch\n",
    "\n",
    "Deep learning networks tend to be massive with dozens or hundreds of layers, that's where the term \"deep\" comes from. You can build one of these deep networks using only weight matrices as we did in the previous notebook, but in general it's very cumbersome and difficult to implement. PyTorch has a nice module `nn` that provides a nice way to efficiently build large neural networks."
   ]
  },
  {
   "cell_type": "code",
   "execution_count": 1,
   "metadata": {},
   "outputs": [],
   "source": [
    "# Import necessary packages\n",
    "\n",
    "%matplotlib inline\n",
    "%config InlineBackend.figure_format = 'retina'\n",
    "\n",
    "import numpy as np\n",
    "import torch\n",
    "\n",
    "import helper\n",
    "\n",
    "import matplotlib.pyplot as plt"
   ]
  },
  {
   "cell_type": "markdown",
   "metadata": {},
   "source": [
    "\n",
    "Now we're going to build a larger network that can solve a (formerly) difficult problem, identifying text in an image. Here we'll use the MNIST dataset which consists of greyscale handwritten digits. Each image is 28x28 pixels, you can see a sample below\n",
    "\n",
    "<img src='assets/mnist.png'>\n",
    "\n",
    "Our goal is to build a neural network that can take one of these images and predict the digit in the image.\n",
    "\n",
    "First up, we need to get our dataset. This is provided through the `torchvision` package. The code below will download the MNIST dataset, then create training and test datasets for us. Don't worry too much about the details here, you'll learn more about this later."
   ]
  },
  {
   "cell_type": "code",
   "execution_count": 2,
   "metadata": {},
   "outputs": [
    {
     "name": "stdout",
     "output_type": "stream",
     "text": [
      "Downloading http://yann.lecun.com/exdb/mnist/train-images-idx3-ubyte.gz to /Users/i.tkachev/.pytorch/MNIST_data/MNIST/raw/train-images-idx3-ubyte.gz\n"
     ]
    },
    {
     "name": "stderr",
     "output_type": "stream",
     "text": [
      "100.1%"
     ]
    },
    {
     "name": "stdout",
     "output_type": "stream",
     "text": [
      "Extracting /Users/i.tkachev/.pytorch/MNIST_data/MNIST/raw/train-images-idx3-ubyte.gz to /Users/i.tkachev/.pytorch/MNIST_data/MNIST/raw\n",
      "Downloading http://yann.lecun.com/exdb/mnist/train-labels-idx1-ubyte.gz to /Users/i.tkachev/.pytorch/MNIST_data/MNIST/raw/train-labels-idx1-ubyte.gz\n"
     ]
    },
    {
     "name": "stderr",
     "output_type": "stream",
     "text": [
      "113.5%"
     ]
    },
    {
     "name": "stdout",
     "output_type": "stream",
     "text": [
      "Extracting /Users/i.tkachev/.pytorch/MNIST_data/MNIST/raw/train-labels-idx1-ubyte.gz to /Users/i.tkachev/.pytorch/MNIST_data/MNIST/raw\n",
      "Downloading http://yann.lecun.com/exdb/mnist/t10k-images-idx3-ubyte.gz to /Users/i.tkachev/.pytorch/MNIST_data/MNIST/raw/t10k-images-idx3-ubyte.gz\n"
     ]
    },
    {
     "name": "stderr",
     "output_type": "stream",
     "text": [
      "100.4%"
     ]
    },
    {
     "name": "stdout",
     "output_type": "stream",
     "text": [
      "Extracting /Users/i.tkachev/.pytorch/MNIST_data/MNIST/raw/t10k-images-idx3-ubyte.gz to /Users/i.tkachev/.pytorch/MNIST_data/MNIST/raw\n",
      "Downloading http://yann.lecun.com/exdb/mnist/t10k-labels-idx1-ubyte.gz to /Users/i.tkachev/.pytorch/MNIST_data/MNIST/raw/t10k-labels-idx1-ubyte.gz\n"
     ]
    },
    {
     "name": "stderr",
     "output_type": "stream",
     "text": [
      "180.4%"
     ]
    },
    {
     "name": "stdout",
     "output_type": "stream",
     "text": [
      "Extracting /Users/i.tkachev/.pytorch/MNIST_data/MNIST/raw/t10k-labels-idx1-ubyte.gz to /Users/i.tkachev/.pytorch/MNIST_data/MNIST/raw\n",
      "Processing...\n",
      "Done!\n"
     ]
    },
    {
     "name": "stderr",
     "output_type": "stream",
     "text": [
      "/usr/local/lib/python3.8/site-packages/torchvision/datasets/mnist.py:469: UserWarning: The given NumPy array is not writeable, and PyTorch does not support non-writeable tensors. This means you can write to the underlying (supposedly non-writeable) NumPy array using the tensor. You may want to copy the array to protect its data or make it writeable before converting it to a tensor. This type of warning will be suppressed for the rest of this program. (Triggered internally at  ../torch/csrc/utils/tensor_numpy.cpp:141.)\n",
      "  return torch.from_numpy(parsed.astype(m[2], copy=False)).view(*s)\n"
     ]
    }
   ],
   "source": [
    "### Run this cell\n",
    "\n",
    "from torchvision import datasets, transforms\n",
    "\n",
    "# Define a transform to normalize the data\n",
    "transform = transforms.Compose([transforms.ToTensor(),\n",
    "                              transforms.Normalize((0.5,), (0.5,)),\n",
    "                              ])\n",
    "\n",
    "# Download and load the training data\n",
    "trainset = datasets.MNIST('~/.pytorch/MNIST_data/', download=True, train=True, transform=transform)\n",
    "trainloader = torch.utils.data.DataLoader(trainset, batch_size=64, shuffle=True)"
   ]
  },
  {
   "cell_type": "markdown",
   "metadata": {},
   "source": [
    "We have the training data loaded into `trainloader` and we make that an iterator with `iter(trainloader)`. Later, we'll use this to loop through the dataset for training, like\n",
    "\n",
    "```python\n",
    "for image, label in trainloader:\n",
    "    ## do things with images and labels\n",
    "```\n",
    "\n",
    "You'll notice I created the `trainloader` with a batch size of 64, and `shuffle=True`. The batch size is the number of images we get in one iteration from the data loader and pass through our network, often called a *batch*. And `shuffle=True` tells it to shuffle the dataset every time we start going through the data loader again. But here I'm just grabbing the first batch so we can check out the data. We can see below that `images` is just a tensor with size `(64, 1, 28, 28)`. So, 64 images per batch, 1 color channel, and 28x28 images."
   ]
  },
  {
   "cell_type": "code",
   "execution_count": 5,
   "metadata": {},
   "outputs": [
    {
     "name": "stdout",
     "output_type": "stream",
     "text": [
      "<class 'torch.Tensor'>\n",
      "torch.Size([64, 1, 28, 28])\n",
      "torch.Size([64])\n"
     ]
    }
   ],
   "source": [
    "dataiter = iter(trainloader)\n",
    "images, labels = dataiter.next()\n",
    "print(type(images))\n",
    "print(images.shape)\n",
    "print(labels.shape)"
   ]
  },
  {
   "cell_type": "markdown",
   "metadata": {},
   "source": [
    "This is what one of the images looks like. "
   ]
  },
  {
   "cell_type": "code",
   "execution_count": 6,
   "metadata": {},
   "outputs": [
    {
     "data": {
      "image/png": "[encoded data removed]",
      "text/plain": [
       "<Figure size 432x288 with 1 Axes>"
      ]
     },
     "metadata": {
      "image/png": {
       "height": 248,
       "width": 251
      },
      "needs_background": "light"
     },
     "output_type": "display_data"
    }
   ],
   "source": [
    "plt.imshow(images[1].numpy().squeeze(), cmap='Greys_r');"
   ]
  },
  {
   "cell_type": "markdown",
   "metadata": {},
   "source": [
    "First, let's try to build a simple network for this dataset using weight matrices and matrix multiplications. Then, we'll see how to do it using PyTorch's `nn` module which provides a much more convenient and powerful method for defining network architectures.\n",
    "\n",
    "The networks you've seen so far are called *fully-connected* or *dense* networks. Each unit in one layer is connected to each unit in the next layer. In fully-connected networks, the input to each layer must be a one-dimensional vector (which can be stacked into a 2D tensor as a batch of multiple examples). However, our images are 28x28 2D tensors, so we need to convert them into 1D vectors. Thinking about sizes, we need to convert the batch of images with shape `(64, 1, 28, 28)` to a have a shape of `(64, 784)`, 784 is 28 times 28. This is typically called *flattening*, we flattened the 2D images into 1D vectors.\n",
    "\n",
    "Previously you built a network with one output unit. Here we need 10 output units, one for each digit. We want our network to predict the digit shown in an image, so what we'll do is calculate probabilities that the image is of any one digit or class. This ends up being a discrete probability distribution over the classes (digits) that tells us the most likely class for the image. That means we need 10 output units for the 10 classes (digits). We'll see how to convert the network output into a probability distribution next.\n",
    "\n",
    "> **Exercise:** Flatten the batch of images `images`. Then build a multi-layer network with 784 input units, 256 hidden units, and 10 output units using random tensors for the weights and biases. For now, use a sigmoid activation for the hidden layer. Leave the output layer without an activation, we'll add one that gives us a probability distribution next."
   ]
  },
  {
   "cell_type": "code",
   "execution_count": 10,
   "metadata": {},
   "outputs": [],
   "source": [
    "def sigmoid(x):\n",
    "    return 1 / (1 + torch.exp(-x))"
   ]
  },
  {
   "cell_type": "code",
   "execution_count": 20,
   "metadata": {
    "scrolled": true
   },
   "outputs": [],
   "source": [
    "## Your solution\n",
    "input_matrix = images.view(64, 784)\n",
    "hidden_weights = torch.randn((784, 256))\n",
    "output_weights = torch.randn((256, 10))\n",
    "# output of your network, should have shape (64,10)\n",
    "out = sigmoid(input_matrix @ hidden_weights) @ output_weights"
   ]
  },
  {
   "cell_type": "markdown",
   "metadata": {},
   "source": [
    "Now we have 10 outputs for our network. We want to pass in an image to our network and get out a probability distribution over the classes that tells us the likely class(es) the image belongs to. Something that looks like this:\n",
    "<img src='assets/image_distribution.png' width=500px>\n",
    "\n",
    "Here we see that the probability for each class is roughly the same. This is representing an untrained network, it hasn't seen any data yet so it just returns a uniform distribution with equal probabilities for each class.\n",
    "\n",
    "To calculate this probability distribution, we often use the [**softmax** function](https://en.wikipedia.org/wiki/Softmax_function). Mathematically this looks like\n",
    "\n",
    "$$\n",
    "\\Large \\sigma(x_i) = \\cfrac{e^{x_i}}{\\sum_k^K{e^{x_k}}}\n",
    "$$\n",
    "\n",
    "What this does is squish each input $x_i$ between 0 and 1 and normalizes the values to give you a proper probability distribution where the probabilites sum up to one.\n",
    "\n",
    "> **Exercise:** Implement a function `softmax` that performs the softmax calculation and returns probability distributions for each example in the batch. Note that you'll need to pay attention to the shapes when doing this. If you have a tensor `a` with shape `(64, 10)` and a tensor `b` with shape `(64,)`, doing `a/b` will give you an error because PyTorch will try to do the division across the columns (called broadcasting) but you'll get a size mismatch. The way to think about this is for each of the 64 examples, you only want to divide by one value, the sum in the denominator. So you need `b` to have a shape of `(64, 1)`. This way PyTorch will divide the 10 values in each row of `a` by the one value in each row of `b`. Pay attention to how you take the sum as well. You'll need to define the `dim` keyword in `torch.sum`. Setting `dim=0` takes the sum across the rows while `dim=1` takes the sum across the columns."
   ]
  },
  {
   "cell_type": "code",
   "execution_count": 25,
   "metadata": {},
   "outputs": [
    {
     "data": {
      "text/plain": [
       "tensor([[ 3.2906e-01, -3.8080e-01, -5.6305e-02,  2.1222e-01,  5.7050e-01,\n",
       "         -1.3860e+00,  3.7559e-01,  1.0228e+00,  4.2707e-01, -1.1414e-01],\n",
       "        [-2.1435e+00, -1.1915e+00,  1.1800e-01,  5.4016e-01,  1.2759e+00,\n",
       "          1.5575e+00,  6.5939e-02,  4.1687e-01, -1.6762e-01,  5.2832e-01],\n",
       "        [-7.9049e-02,  7.7774e-01,  2.8622e-01, -2.6723e-01,  4.1237e-01,\n",
       "          1.0214e+00, -4.6196e-01, -1.2785e+00, -1.6337e-01,  7.5244e-01],\n",
       "        [ 3.9428e-01,  6.5235e-02,  7.5620e-02,  8.2829e-02,  3.3806e-02,\n",
       "         -4.7207e-01,  2.4432e-01,  4.7942e-01,  6.6312e-02,  3.0239e-02],\n",
       "        [-7.3095e-01,  6.3278e-02,  9.2075e-02,  2.8493e-01, -2.1944e-01,\n",
       "          7.8548e-01,  5.1879e-02, -1.7403e-01,  1.5045e-01,  6.9633e-01],\n",
       "        [ 3.1823e+00, -2.6382e+00,  2.5517e+00,  1.5783e+00, -1.2824e+00,\n",
       "         -6.0278e+00,  1.3216e+00,  6.9359e+00,  1.5489e+00, -6.1704e+00],\n",
       "        [ 1.8024e+00,  1.3545e-01, -8.0039e-02,  1.3541e-01, -3.7128e-01,\n",
       "         -5.6475e-01, -3.3377e-01,  1.4286e+00, -4.6973e-01, -6.8225e-01],\n",
       "        [-1.6928e-01,  1.5570e-01,  2.8074e-01,  4.6165e-01,  1.4764e-01,\n",
       "          3.9579e-01, -2.6839e-02, -5.7490e-01,  4.0275e-02,  2.8921e-01],\n",
       "        [-3.0960e-01, -7.8134e-02,  2.0569e-01,  1.3894e-01,  4.8526e-01,\n",
       "          6.6303e-01,  6.7217e-02, -3.4254e-01, -1.3941e-01,  3.0955e-01],\n",
       "        [-2.0891e+00,  1.2473e+00,  1.8025e+00,  1.1940e+00,  9.4559e-01,\n",
       "          1.5294e+00, -9.2656e-01, -3.6094e+00,  6.0721e-01,  2.9914e-01],\n",
       "        [-3.6146e-01, -1.3660e-01,  2.9888e-01,  1.0312e-01,  1.7764e-01,\n",
       "          3.2681e-01,  1.1676e-01, -6.2899e-02,  5.3259e-02,  4.8450e-01],\n",
       "        [ 1.0690e+00, -8.9733e-02, -7.6692e-01,  6.7366e-01, -2.2612e-01,\n",
       "         -1.5799e+00,  1.1510e+00,  1.5865e+00, -3.0057e-02, -7.8750e-01],\n",
       "        [ 7.3702e-01, -1.7310e-01, -1.6306e-01,  3.5055e-01, -4.9981e-01,\n",
       "         -1.0311e+00,  4.3256e-01,  1.0107e+00,  3.5980e-01, -2.3607e-02],\n",
       "        [-8.6301e-01,  1.8907e-01,  3.9907e-02,  3.5981e-01,  3.3489e-01,\n",
       "          3.3195e-01,  2.1144e-01, -3.1176e-01,  4.8681e-02,  6.5903e-01],\n",
       "        [ 5.0388e-01, -1.8090e-01,  2.2286e-01,  1.0470e-01, -1.6138e-01,\n",
       "         -4.6186e-01,  3.6028e-01,  6.0649e-01,  2.7343e-01, -2.6751e-01],\n",
       "        [-7.7965e-01, -1.1853e-01, -2.6086e-01, -5.3238e-02, -2.0714e-01,\n",
       "          5.3295e-01,  5.9981e-01, -2.1168e-02,  7.9941e-01,  5.0841e-01],\n",
       "        [ 4.1397e+00, -2.5955e-01, -1.0319e+00, -1.5016e+00,  4.2931e-02,\n",
       "         -3.3451e+00, -5.1749e-01,  3.3910e+00,  9.0451e-01, -8.2241e-01],\n",
       "        [-2.2939e+00, -1.4130e+00, -2.7758e-02,  6.6370e-02, -3.6648e-01,\n",
       "          2.9334e+00, -1.5802e-01, -7.1711e-02,  7.3852e-01,  1.5925e+00],\n",
       "        [ 3.9384e-01,  1.1611e-01, -1.7214e-01,  3.0212e-01, -1.8135e-01,\n",
       "         -5.3910e-01,  4.2503e-01,  4.6820e-01, -1.6156e-02,  2.0344e-01],\n",
       "        [-1.5531e+00,  2.5753e-01, -2.2158e-02,  7.8508e-01,  1.0211e+00,\n",
       "          1.6610e+00, -1.2338e-01, -8.1590e-01, -7.1756e-01,  5.0744e-01],\n",
       "        [ 5.5038e-01,  2.1734e-02,  6.2976e-03, -5.2114e-02, -1.8222e-02,\n",
       "         -6.6983e-01,  4.6759e-01,  4.2547e-01,  3.7072e-01, -1.0203e-01],\n",
       "        [-5.5936e-01, -1.6487e-01,  3.5443e-01,  4.4621e-01,  7.7587e-01,\n",
       "          8.6869e-01, -5.3149e-01, -6.5417e-01, -1.2165e-01,  5.8634e-01],\n",
       "        [ 3.5023e+00, -4.7908e-02, -9.6873e-01, -1.1737e-01,  3.3999e-01,\n",
       "         -2.8872e+00, -1.7595e-01,  2.3643e+00, -8.5721e-01, -1.5224e-01],\n",
       "        [ 5.7057e-01,  1.8546e-01,  2.1273e-01,  6.3685e-02,  5.7576e-04,\n",
       "         -9.6929e-01,  4.1546e-01,  1.0023e+00,  3.5058e-02, -5.1653e-01],\n",
       "        [-5.6935e-01,  1.6028e-02, -6.3939e-02,  2.6688e-01,  3.8276e-01,\n",
       "          7.0938e-01,  2.7227e-01, -9.7194e-01, -5.8302e-03,  9.6374e-01],\n",
       "        [ 2.8912e-01,  5.1144e-02,  7.8431e-02,  1.4005e-01, -1.2043e-02,\n",
       "         -2.3256e-01,  1.8959e-02,  2.9357e-01,  3.5146e-01,  2.1862e-02],\n",
       "        [ 3.1454e-01,  7.7781e-02,  3.1403e-05,  1.3543e-01,  7.8649e-02,\n",
       "         -9.4351e-02,  1.2776e-01,  3.3307e-01,  7.8908e-02, -5.1814e-02],\n",
       "        [ 5.0999e-01, -9.3985e-02,  4.7442e-01,  3.6085e-01, -8.3920e-02,\n",
       "         -4.1651e-01,  1.3767e-01,  2.7480e-01, -1.4662e-01, -1.6678e-02],\n",
       "        [-1.3033e-01,  4.5958e-01,  4.3882e-01, -9.3335e-01,  9.3183e-01,\n",
       "          2.2986e+00, -1.1569e+00, -1.6715e+00, -5.5920e-01,  1.3224e+00],\n",
       "        [ 1.3830e+00,  4.3751e-01,  4.4702e-01, -3.3653e-01, -5.4731e-01,\n",
       "         -1.6682e+00,  7.4848e-01,  6.4501e-01,  1.1444e+00, -1.2535e+00],\n",
       "        [ 6.1493e-01, -2.7796e-01,  1.5396e-01,  2.6792e-01,  8.3799e-02,\n",
       "         -3.7549e-01,  2.4796e-01,  5.6843e-01, -4.4507e-02, -2.3904e-01],\n",
       "        [ 5.7546e-01, -1.5475e-01,  2.9109e-01,  8.0080e-02, -1.7522e-01,\n",
       "         -4.6768e-01,  2.4596e-01,  3.0533e-01,  2.6899e-01,  3.0741e-02],\n",
       "        [ 4.4759e-01, -2.0393e-01,  5.7347e-02,  1.8170e-01,  1.7391e-01,\n",
       "         -1.8209e-01,  6.0014e-02,  6.7433e-01,  2.3147e-02, -2.3202e-01],\n",
       "        [ 1.2285e+00, -1.2110e-01, -6.8757e-01,  2.6550e-01, -3.9634e-01,\n",
       "         -2.2055e+00,  1.2393e+00,  8.2392e-01,  1.1606e+00, -3.0727e-01],\n",
       "        [ 4.2717e-01, -6.0224e-01, -1.0381e-01,  6.7533e-01, -4.0288e-01,\n",
       "         -1.0721e+00,  4.4656e-01,  1.0142e+00,  7.5628e-01, -1.3853e-01],\n",
       "        [ 6.9387e-01, -1.2193e-01, -4.0221e-02,  3.3387e-02, -2.6074e-01,\n",
       "         -3.8189e-01,  5.9699e-01,  6.0873e-01,  2.8504e-01, -4.1325e-01],\n",
       "        [ 1.0296e+00, -3.1512e-01, -9.6310e-02, -1.6128e-01, -1.1727e-01,\n",
       "         -4.4795e-01, -3.2925e-01,  1.0104e+00,  4.1338e-01,  1.3819e-02],\n",
       "        [ 7.0830e-01, -1.4818e-01,  3.0830e-02,  2.6118e-01, -2.7386e-01,\n",
       "         -7.8899e-01,  2.2325e-01,  8.8491e-01,  3.2500e-01, -2.2244e-01],\n",
       "        [-1.1985e+00,  5.9971e-01, -1.9168e-01,  8.3360e-02,  8.1754e-01,\n",
       "          2.3356e+00,  2.2269e-01, -1.7101e+00, -4.2482e-01,  4.6624e-01],\n",
       "        [-5.6842e-01, -1.0313e-01,  3.0383e-01,  8.8987e-01,  7.5046e-01,\n",
       "          1.1245e+00, -9.0771e-01, -5.8827e-01,  2.4265e-01, -1.4381e-01],\n",
       "        [-3.5911e+00, -1.2277e+00,  3.7591e+00,  1.9270e-01,  9.4836e-01,\n",
       "          8.1245e+00, -1.9894e+00, -5.6928e+00,  1.3037e+00, -8.2741e-01],\n",
       "        [-1.1247e+00, -2.3897e-01,  2.9786e-01,  3.9258e-01,  6.5812e-01,\n",
       "          1.1335e+00, -8.6013e-02, -3.6335e-01, -4.9272e-02,  3.8020e-01],\n",
       "        [ 8.3052e-01,  1.0712e-01, -4.1603e-01,  4.2490e-01,  2.1960e-01,\n",
       "         -1.0531e+00,  3.5491e-01,  1.2499e+00, -6.0546e-01, -1.1237e-01],\n",
       "        [-1.6476e-01,  6.6813e-02, -1.4902e-01,  9.9895e-02,  1.0470e-01,\n",
       "          4.7153e-01,  2.9858e-01, -2.3318e-01,  1.6801e-01,  3.3744e-01],\n",
       "        [ 3.1673e+00, -2.2817e+00,  3.4339e-01,  3.1441e-01, -1.5361e+00,\n",
       "         -4.5236e+00,  1.0251e+00,  3.7352e+00,  3.0462e-01,  4.5130e-01],\n",
       "        [ 6.5426e-01,  2.1200e-01, -5.8409e-02, -4.0883e-02,  2.1342e-02,\n",
       "         -5.5647e-01,  1.5333e-01,  7.0701e-01,  2.2737e-01, -3.1953e-01],\n",
       "        [ 2.9121e-01, -2.8460e-01,  4.3679e-01, -2.1842e-02, -9.0691e-02,\n",
       "         -4.6469e-01,  2.6622e-01,  8.8141e-01,  3.4971e-01, -3.6353e-01],\n",
       "        [ 2.6672e-01, -1.5461e-01,  1.8621e-01,  6.2029e-02, -8.3383e-02,\n",
       "         -3.8643e-01,  2.6761e-01,  5.2431e-01,  2.8198e-01,  3.5579e-02],\n",
       "        [-4.0397e+00,  2.3775e+00,  1.6334e+00,  1.8285e+00,  1.9426e+00,\n",
       "          3.9808e+00, -3.4514e+00, -5.7196e+00,  5.0269e-01,  1.9453e+00],\n",
       "        [ 9.9365e-01, -7.2454e-02, -1.1533e+00,  7.1802e-01, -7.0003e-01,\n",
       "         -2.0132e+00,  1.3713e+00,  1.9110e+00,  9.2629e-01, -9.8133e-01],\n",
       "        [ 6.8649e-01,  1.9914e-01,  3.1723e-02, -2.7446e-02,  9.8053e-02,\n",
       "         -7.3845e-01,  1.2211e-01,  5.6354e-01,  1.1791e-01, -5.3068e-02],\n",
       "        [ 5.7361e-01, -3.6806e-02,  1.8132e-01,  4.9168e-02,  2.1256e-02,\n",
       "         -2.9832e-01,  2.8064e-02,  3.1464e-01,  1.5268e-01,  1.4383e-02],\n",
       "        [ 7.6554e-01, -2.6619e-01,  2.6984e-01,  6.7552e-02, -2.7195e-01,\n",
       "         -5.3051e-01,  3.3577e-01,  9.2316e-01,  1.7731e-01, -4.7052e-01],\n",
       "        [-9.6641e-01,  5.6559e-01,  2.2580e-01,  1.4130e-01,  7.5675e-01,\n",
       "          5.6429e-01,  4.5671e-04, -6.9010e-01, -1.1079e-02,  4.1341e-01],\n",
       "        [-3.1396e-01, -8.7633e-02,  2.5734e-01,  4.7176e-02,  3.2320e-01,\n",
       "          7.5176e-01, -2.3405e-01,  1.8417e-02,  4.3783e-02,  1.9397e-01],\n",
       "        [ 2.3827e-01,  7.3804e-02,  1.2028e-01,  2.2949e-01, -4.8019e-01,\n",
       "         -8.4425e-01,  3.5491e-01,  9.8641e-01,  1.5920e-01,  1.6209e-01],\n",
       "        [-3.1739e+00,  1.5705e-01,  6.9325e-02,  1.5904e+00,  1.7453e+00,\n",
       "          2.1948e+00,  3.5576e-01, -6.6175e-01, -1.6176e+00,  3.4069e-01],\n",
       "        [-1.0666e-01, -1.8552e-02,  2.7103e-01,  1.8206e-01,  1.7923e-01,\n",
       "          3.0900e-01,  1.5756e-01, -2.3107e-01,  1.0519e-02,  2.4687e-01],\n",
       "        [-1.4531e+00, -7.5242e-01,  1.0032e+00,  4.5083e-01,  1.7089e-01,\n",
       "          8.6738e-01, -6.9896e-01, -5.1953e-01,  5.2397e-01,  1.4078e+00],\n",
       "        [ 7.1461e-01, -1.3392e-01,  3.6494e-01,  2.2568e-01, -4.5379e-01,\n",
       "         -9.3803e-01,  1.4506e-01,  7.9114e-01,  3.6938e-01, -8.5068e-02],\n",
       "        [-1.1395e+00, -2.6397e-02,  3.0392e-01,  5.1261e-01,  7.6965e-01,\n",
       "          5.5146e-01, -5.7137e-01, -6.8740e-01,  3.4480e-01,  9.4226e-01],\n",
       "        [ 1.3507e+00,  5.3631e-02, -4.5008e-01,  1.8837e-01,  3.6129e-03,\n",
       "         -6.3953e-02,  3.0677e-01,  8.2562e-01, -6.4810e-01, -5.6659e-01],\n",
       "        [-8.7446e-01,  4.2762e-01,  4.0451e-01,  4.3728e-02,  6.0252e-01,\n",
       "          8.0473e-01, -2.3112e-01, -2.4478e-01, -7.8508e-02,  1.4576e-01],\n",
       "        [ 5.0231e-01,  3.8941e-02,  5.4503e-02,  6.4844e-02, -1.6093e-02,\n",
       "         -2.7166e-01,  2.3364e-01,  1.9681e-01,  2.1792e-01, -2.1218e-02]])"
      ]
     },
     "execution_count": 25,
     "metadata": {},
     "output_type": "execute_result"
    }
   ],
   "source": [
    "out / out.sum(dim=1).reshape(out.shape[0], 1)"
   ]
  },
  {
   "cell_type": "code",
   "execution_count": 26,
   "metadata": {},
   "outputs": [
    {
     "name": "stdout",
     "output_type": "stream",
     "text": [
      "torch.Size([64, 10])\n",
      "tensor([1.0000, 1.0000, 1.0000, 1.0000, 1.0000, 1.0000, 1.0000, 1.0000, 1.0000,\n",
      "        1.0000, 1.0000, 1.0000, 1.0000, 1.0000, 1.0000, 1.0000, 1.0000, 1.0000,\n",
      "        1.0000, 1.0000, 1.0000, 1.0000, 1.0000, 1.0000, 1.0000, 1.0000, 1.0000,\n",
      "        1.0000, 1.0000, 1.0000, 1.0000, 1.0000, 1.0000, 1.0000, 1.0000, 1.0000,\n",
      "        1.0000, 1.0000, 1.0000, 1.0000, 1.0000, 1.0000, 1.0000, 1.0000, 1.0000,\n",
      "        1.0000, 1.0000, 1.0000, 1.0000, 1.0000, 1.0000, 1.0000, 1.0000, 1.0000,\n",
      "        1.0000, 1.0000, 1.0000, 1.0000, 1.0000, 1.0000, 1.0000, 1.0000, 1.0000,\n",
      "        1.0000])\n"
     ]
    }
   ],
   "source": [
    "def softmax(x):\n",
    "    ## TODO: Implement the softmax function here\n",
    "    return torch.exp(x) / torch.exp(x).sum(dim=1).reshape(x.shape[0], 1)\n",
    "\n",
    "# Here, out should be the output of the network in the previous excercise with shape (64,10)\n",
    "probabilities = softmax(out)\n",
    "\n",
    "# Does it have the right shape? Should be (64, 10)\n",
    "print(probabilities.shape)\n",
    "# Does it sum to 1?\n",
    "print(probabilities.sum(dim=1))"
   ]
  },
  {
   "cell_type": "markdown",
   "metadata": {},
   "source": [
    "## Building networks with PyTorch\n",
    "\n",
    "PyTorch provides a module `nn` that makes building networks much simpler. Here I'll show you how to build the same one as above with 784 inputs, 256 hidden units, 10 output units and a softmax output."
   ]
  },
  {
   "cell_type": "code",
   "execution_count": 27,
   "metadata": {},
   "outputs": [],
   "source": [
    "from torch import nn"
   ]
  },
  {
   "cell_type": "code",
   "execution_count": 29,
   "metadata": {},
   "outputs": [],
   "source": [
    "class Network(nn.Module):\n",
    "    def __init__(self):\n",
    "        super().__init__()\n",
    "        \n",
    "        # Inputs to hidden layer linear transformation\n",
    "        self.hidden = nn.Linear(784, 256)\n",
    "        # Output layer, 10 units - one for each digit\n",
    "        self.output = nn.Linear(256, 10)\n",
    "        \n",
    "        # Define sigmoid activation and softmax output \n",
    "        self.sigmoid = nn.Sigmoid()\n",
    "        self.softmax = nn.Softmax(dim=1)\n",
    "        \n",
    "    def forward(self, x):\n",
    "        # Pass the input tensor through each of our operations\n",
    "        x = self.hidden(x)\n",
    "        x = self.sigmoid(x)\n",
    "        x = self.output(x)\n",
    "        x = self.softmax(x)\n",
    "        \n",
    "        return x"
   ]
  },
  {
   "cell_type": "markdown",
   "metadata": {},
   "source": [
    "Let's go through this bit by bit.\n",
    "\n",
    "```python\n",
    "class Network(nn.Module):\n",
    "```\n",
    "\n",
    "Here we're inheriting from `nn.Module`. Combined with `super().__init__()` this creates a class that tracks the architecture and provides a lot of useful methods and attributes. It is mandatory to inherit from `nn.Module` when you're creating a class for your network. The name of the class itself can be anything.\n",
    "\n",
    "```python\n",
    "self.hidden = nn.Linear(784, 256)\n",
    "```\n",
    "\n",
    "This line creates a module for a linear transformation, $x\\mathbf{W} + b$, with 784 inputs and 256 outputs and assigns it to `self.hidden`. The module automatically creates the weight and bias tensors which we'll use in the `forward` method. You can access the weight and bias tensors once the network (`net`) is created with `net.hidden.weight` and `net.hidden.bias`.\n",
    "\n",
    "```python\n",
    "self.output = nn.Linear(256, 10)\n",
    "```\n",
    "\n",
    "Similarly, this creates another linear transformation with 256 inputs and 10 outputs.\n",
    "\n",
    "```python\n",
    "self.sigmoid = nn.Sigmoid()\n",
    "self.softmax = nn.Softmax(dim=1)\n",
    "```\n",
    "\n",
    "Here I defined operations for the sigmoid activation and softmax output. Setting `dim=1` in `nn.Softmax(dim=1)` calculates softmax across the columns.\n",
    "\n",
    "```python\n",
    "def forward(self, x):\n",
    "```\n",
    "\n",
    "PyTorch networks created with `nn.Module` must have a `forward` method defined. It takes in a tensor `x` and passes it through the operations you defined in the `__init__` method.\n",
    "\n",
    "```python\n",
    "x = self.hidden(x)\n",
    "x = self.sigmoid(x)\n",
    "x = self.output(x)\n",
    "x = self.softmax(x)\n",
    "```\n",
    "\n",
    "Here the input tensor `x` is passed through each operation and reassigned to `x`. We can see that the input tensor goes through the hidden layer, then a sigmoid function, then the output layer, and finally the softmax function. It doesn't matter what you name the variables here, as long as the inputs and outputs of the operations match the network architecture you want to build. The order in which you define things in the `__init__` method doesn't matter, but you'll need to sequence the operations correctly in the `forward` method.\n",
    "\n",
    "Now we can create a `Network` object."
   ]
  },
  {
   "cell_type": "code",
   "execution_count": 30,
   "metadata": {},
   "outputs": [
    {
     "data": {
      "text/plain": [
       "Network(\n",
       "  (hidden): Linear(in_features=784, out_features=256, bias=True)\n",
       "  (output): Linear(in_features=256, out_features=10, bias=True)\n",
       "  (sigmoid): Sigmoid()\n",
       "  (softmax): Softmax(dim=1)\n",
       ")"
      ]
     },
     "execution_count": 30,
     "metadata": {},
     "output_type": "execute_result"
    }
   ],
   "source": [
    "# Create the network and look at it's text representation\n",
    "model = Network()\n",
    "model"
   ]
  },
  {
   "cell_type": "markdown",
   "metadata": {},
   "source": [
    "You can define the network somewhat more concisely and clearly using the `torch.nn.functional` module. This is the most common way you'll see networks defined as many operations are simple element-wise functions. We normally import this module as `F`, `import torch.nn.functional as F`."
   ]
  },
  {
   "cell_type": "code",
   "execution_count": 31,
   "metadata": {},
   "outputs": [],
   "source": [
    "import torch.nn.functional as F\n",
    "\n",
    "class Network(nn.Module):\n",
    "    def __init__(self):\n",
    "        super().__init__()\n",
    "        # Inputs to hidden layer linear transformation\n",
    "        self.hidden = nn.Linear(784, 256)\n",
    "        # Output layer, 10 units - one for each digit\n",
    "        self.output = nn.Linear(256, 10)\n",
    "        \n",
    "    def forward(self, x):\n",
    "        # Hidden layer with sigmoid activation\n",
    "        x = F.sigmoid(self.hidden(x))\n",
    "        # Output layer with softmax activation\n",
    "        x = F.softmax(self.output(x), dim=1)\n",
    "        \n",
    "        return x"
   ]
  },
  {
   "cell_type": "markdown",
   "metadata": {},
   "source": [
    "### Activation functions\n",
    "\n",
    "So far we've only been looking at the sigmoid activation function, but in general any function can be used as an activation function. The only requirement is that for a network to approximate a non-linear function, the activation functions must be non-linear. Here are a few more examples of common activation functions: Tanh (hyperbolic tangent), and ReLU (rectified linear unit).\n",
    "\n",
    "<img src=\"assets/activation.png\" width=700px>\n",
    "\n",
    "In practice, the ReLU function is used almost exclusively as the activation function for hidden layers."
   ]
  },
  {
   "cell_type": "markdown",
   "metadata": {},
   "source": [
    "### Your Turn to Build a Network\n",
    "\n",
    "<img src=\"assets/mlp_mnist.png\" width=600px>\n",
    "\n",
    "> **Exercise:** Create a network with 784 input units, a hidden layer with 128 units and a ReLU activation, then a hidden layer with 64 units and a ReLU activation, and finally an output layer with a softmax activation as shown above. You can use a ReLU activation with the `nn.ReLU` module or `F.relu` function.\n",
    "\n",
    "It's good practice to name your layers by their type of network, for instance 'fc' to represent a fully-connected layer. As you code your solution, use `fc1`, `fc2`, and `fc3` as your layer names."
   ]
  },
  {
   "cell_type": "code",
   "execution_count": 34,
   "metadata": {
    "scrolled": true
   },
   "outputs": [],
   "source": [
    "## Your solution here\n",
    "\n",
    "class MyNeuralNetwork(nn.Module):\n",
    "    def __init__(self):\n",
    "        super().__init__()\n",
    "        \n",
    "        self.fc1 = nn.Linear(784, 128)\n",
    "        self.fc2 = nn.Linear(128, 64)\n",
    "        self.output = nn.Linear(64, 10)\n",
    "        \n",
    "    def forward(self, x):\n",
    "        x = F.relu(self.fc1(x))\n",
    "        x = F.relu(self.fc2(x))\n",
    "        x = F.softmax(self.output(x))\n",
    "        return x\n",
    "    \n",
    "model = MyNeuralNetwork()"
   ]
  },
  {
   "cell_type": "markdown",
   "metadata": {},
   "source": [
    "### Initializing weights and biases\n",
    "\n",
    "The weights and such are automatically initialized for you, but it's possible to customize how they are initialized. The weights and biases are tensors attached to the layer you defined, you can get them with `model.fc1.weight` for instance."
   ]
  },
  {
   "cell_type": "code",
   "execution_count": 35,
   "metadata": {},
   "outputs": [
    {
     "name": "stdout",
     "output_type": "stream",
     "text": [
      "Parameter containing:\n",
      "tensor([[-0.0185,  0.0098,  0.0148,  ...,  0.0272, -0.0178, -0.0104],\n",
      "        [ 0.0297,  0.0235,  0.0290,  ...,  0.0295,  0.0327, -0.0038],\n",
      "        [ 0.0167,  0.0013, -0.0203,  ..., -0.0179, -0.0190,  0.0009],\n",
      "        ...,\n",
      "        [-0.0054,  0.0217,  0.0281,  ..., -0.0138,  0.0315,  0.0149],\n",
      "        [-0.0343,  0.0185, -0.0134,  ..., -0.0064, -0.0234,  0.0080],\n",
      "        [-0.0130,  0.0188, -0.0095,  ...,  0.0125,  0.0221, -0.0235]],\n",
      "       requires_grad=True)\n",
      "Parameter containing:\n",
      "tensor([-0.0303, -0.0158, -0.0264, -0.0218,  0.0058,  0.0257,  0.0312, -0.0124,\n",
      "        -0.0016, -0.0198, -0.0110, -0.0076,  0.0305, -0.0297,  0.0336,  0.0270,\n",
      "        -0.0296,  0.0172, -0.0022,  0.0244,  0.0018,  0.0238, -0.0107, -0.0290,\n",
      "         0.0204, -0.0105,  0.0092, -0.0247,  0.0241, -0.0016, -0.0209,  0.0125,\n",
      "         0.0020,  0.0051, -0.0174, -0.0183,  0.0202, -0.0294,  0.0017,  0.0328,\n",
      "        -0.0069, -0.0306, -0.0232,  0.0094,  0.0336, -0.0319, -0.0233,  0.0149,\n",
      "         0.0103,  0.0150,  0.0283, -0.0343, -0.0138,  0.0356, -0.0129,  0.0065,\n",
      "         0.0100, -0.0040,  0.0270,  0.0050,  0.0351,  0.0061,  0.0069,  0.0152,\n",
      "         0.0010, -0.0092, -0.0204,  0.0341, -0.0090,  0.0183,  0.0327,  0.0093,\n",
      "         0.0267, -0.0287,  0.0297, -0.0172,  0.0208,  0.0195, -0.0253, -0.0208,\n",
      "         0.0205,  0.0303, -0.0023,  0.0117,  0.0027, -0.0212, -0.0305,  0.0110,\n",
      "         0.0007, -0.0006, -0.0277, -0.0021,  0.0070,  0.0293,  0.0164, -0.0015,\n",
      "        -0.0139, -0.0269, -0.0234,  0.0260,  0.0081,  0.0117, -0.0251, -0.0329,\n",
      "        -0.0276, -0.0101, -0.0033, -0.0066,  0.0017, -0.0283, -0.0100,  0.0112,\n",
      "         0.0053,  0.0261,  0.0334,  0.0305,  0.0058, -0.0245,  0.0353,  0.0357,\n",
      "         0.0122, -0.0290, -0.0122, -0.0324,  0.0119,  0.0114,  0.0331, -0.0106],\n",
      "       requires_grad=True)\n"
     ]
    }
   ],
   "source": [
    "print(model.fc1.weight)\n",
    "print(model.fc1.bias)"
   ]
  },
  {
   "cell_type": "markdown",
   "metadata": {},
   "source": [
    "For custom initialization, we want to modify these tensors in place. These are actually autograd *Variables*, so we need to get back the actual tensors with `model.fc1.weight.data`. Once we have the tensors, we can fill them with zeros (for biases) or random normal values."
   ]
  },
  {
   "cell_type": "code",
   "execution_count": 36,
   "metadata": {},
   "outputs": [
    {
     "data": {
      "text/plain": [
       "tensor([0., 0., 0., 0., 0., 0., 0., 0., 0., 0., 0., 0., 0., 0., 0., 0., 0., 0., 0., 0., 0., 0., 0., 0.,\n",
       "        0., 0., 0., 0., 0., 0., 0., 0., 0., 0., 0., 0., 0., 0., 0., 0., 0., 0., 0., 0., 0., 0., 0., 0.,\n",
       "        0., 0., 0., 0., 0., 0., 0., 0., 0., 0., 0., 0., 0., 0., 0., 0., 0., 0., 0., 0., 0., 0., 0., 0.,\n",
       "        0., 0., 0., 0., 0., 0., 0., 0., 0., 0., 0., 0., 0., 0., 0., 0., 0., 0., 0., 0., 0., 0., 0., 0.,\n",
       "        0., 0., 0., 0., 0., 0., 0., 0., 0., 0., 0., 0., 0., 0., 0., 0., 0., 0., 0., 0., 0., 0., 0., 0.,\n",
       "        0., 0., 0., 0., 0., 0., 0., 0.])"
      ]
     },
     "execution_count": 36,
     "metadata": {},
     "output_type": "execute_result"
    }
   ],
   "source": [
    "# Set biases to all zeros\n",
    "model.fc1.bias.data.fill_(0)"
   ]
  },
  {
   "cell_type": "code",
   "execution_count": 37,
   "metadata": {},
   "outputs": [
    {
     "data": {
      "text/plain": [
       "tensor([[-0.0058, -0.0033, -0.0061,  ..., -0.0096,  0.0146, -0.0105],\n",
       "        [-0.0006,  0.0169, -0.0030,  ..., -0.0028,  0.0067,  0.0069],\n",
       "        [ 0.0046,  0.0016, -0.0165,  ..., -0.0118, -0.0002, -0.0166],\n",
       "        ...,\n",
       "        [ 0.0045, -0.0088,  0.0125,  ..., -0.0046, -0.0040,  0.0074],\n",
       "        [-0.0342,  0.0004,  0.0004,  ...,  0.0051,  0.0154, -0.0101],\n",
       "        [-0.0010, -0.0082, -0.0020,  ...,  0.0047,  0.0062, -0.0009]])"
      ]
     },
     "execution_count": 37,
     "metadata": {},
     "output_type": "execute_result"
    }
   ],
   "source": [
    "# sample from random normal with standard dev = 0.01\n",
    "model.fc1.weight.data.normal_(std=0.01)"
   ]
  },
  {
   "cell_type": "markdown",
   "metadata": {},
   "source": [
    "### Forward pass\n",
    "\n",
    "Now that we have a network, let's see what happens when we pass in an image."
   ]
  },
  {
   "cell_type": "code",
   "execution_count": 38,
   "metadata": {},
   "outputs": [
    {
     "name": "stderr",
     "output_type": "stream",
     "text": [
      "<ipython-input-34-bc520a70a4c0>:14: UserWarning: Implicit dimension choice for softmax has been deprecated. Change the call to include dim=X as an argument.\n",
      "  x = F.softmax(self.output(x))\n"
     ]
    },
    {
     "data": {
      "image/png": "[encoded data removed]",
      "text/plain": [
       "<Figure size 432x648 with 2 Axes>"
      ]
     },
     "metadata": {
      "image/png": {
       "height": 235,
       "width": 424
      },
      "needs_background": "light"
     },
     "output_type": "display_data"
    }
   ],
   "source": [
    "# Grab some data \n",
    "dataiter = iter(trainloader)\n",
    "images, labels = dataiter.next()\n",
    "\n",
    "# Resize images into a 1D vector, new shape is (batch size, color channels, image pixels) \n",
    "images.resize_(64, 1, 784)\n",
    "# or images.resize_(images.shape[0], 1, 784) to automatically get batch size\n",
    "\n",
    "# Forward pass through the network\n",
    "img_idx = 0\n",
    "ps = model.forward(images[img_idx,:])\n",
    "\n",
    "img = images[img_idx]\n",
    "helper.view_classify(img.view(1, 28, 28), ps)"
   ]
  },
  {
   "cell_type": "markdown",
   "metadata": {},
   "source": [
    "As you can see above, our network has basically no idea what this digit is. It's because we haven't trained it yet, all the weights are random!\n",
    "\n",
    "### Using `nn.Sequential`\n",
    "\n",
    "PyTorch provides a convenient way to build networks like this where a tensor is passed sequentially through operations, `nn.Sequential` ([documentation](https://pytorch.org/docs/master/nn.html#torch.nn.Sequential)). Using this to build the equivalent network:"
   ]
  },
  {
   "cell_type": "code",
   "execution_count": 41,
   "metadata": {},
   "outputs": [
    {
     "name": "stdout",
     "output_type": "stream",
     "text": [
      "Sequential(\n",
      "  (0): Linear(in_features=784, out_features=128, bias=True)\n",
      "  (1): ReLU()\n",
      "  (2): Linear(in_features=128, out_features=64, bias=True)\n",
      "  (3): ReLU()\n",
      "  (4): Linear(in_features=64, out_features=10, bias=True)\n",
      "  (5): Softmax(dim=1)\n",
      ")\n"
     ]
    },
    {
     "data": {
      "image/png": "[encoded data removed]",
      "text/plain": [
       "<Figure size 432x648 with 2 Axes>"
      ]
     },
     "metadata": {
      "image/png": {
       "height": 235,
       "width": 424
      },
      "needs_background": "light"
     },
     "output_type": "display_data"
    }
   ],
   "source": [
    "# Hyperparameters for our network\n",
    "input_size = 784\n",
    "hidden_sizes = [128, 64]\n",
    "output_size = 10\n",
    "\n",
    "# Build a feed-forward network\n",
    "model = nn.Sequential(nn.Linear(input_size, hidden_sizes[0]),\n",
    "                      nn.ReLU(),\n",
    "                      nn.Linear(hidden_sizes[0], hidden_sizes[1]),\n",
    "                      nn.ReLU(),\n",
    "                      nn.Linear(hidden_sizes[1], output_size),\n",
    "                      nn.Softmax(dim=1))\n",
    "print(model)\n",
    "\n",
    "# Forward pass through the network and display output\n",
    "images, labels = next(iter(trainloader))\n",
    "images.resize_(images.shape[0], 1, 784)\n",
    "ps = model.forward(images[0,:])\n",
    "helper.view_classify(images[0].view(1, 28, 28), ps)"
   ]
  },
  {
   "cell_type": "markdown",
   "metadata": {},
   "source": [
    "Here our model is the same as before: 784 input units, a hidden layer with 128 units, ReLU activation, 64 unit hidden layer, another ReLU, then the output layer with 10 units, and the softmax output.\n",
    "\n",
    "The operations are available by passing in the appropriate index. For example, if you want to get first Linear operation and look at the weights, you'd use `model[0]`."
   ]
  },
  {
   "cell_type": "code",
   "execution_count": 42,
   "metadata": {},
   "outputs": [
    {
     "name": "stdout",
     "output_type": "stream",
     "text": [
      "Linear(in_features=784, out_features=128, bias=True)\n"
     ]
    },
    {
     "data": {
      "text/plain": [
       "Parameter containing:\n",
       "tensor([[ 0.0068,  0.0334, -0.0149,  ..., -0.0065,  0.0333, -0.0237],\n",
       "        [-0.0285,  0.0218,  0.0074,  ..., -0.0355, -0.0327, -0.0242],\n",
       "        [ 0.0107,  0.0022,  0.0135,  ...,  0.0106,  0.0329, -0.0199],\n",
       "        ...,\n",
       "        [-0.0295,  0.0332, -0.0187,  ...,  0.0246, -0.0337, -0.0174],\n",
       "        [-0.0115,  0.0281, -0.0042,  ...,  0.0129,  0.0131,  0.0353],\n",
       "        [ 0.0291, -0.0208, -0.0291,  ...,  0.0077,  0.0207, -0.0269]],\n",
       "       requires_grad=True)"
      ]
     },
     "execution_count": 42,
     "metadata": {},
     "output_type": "execute_result"
    }
   ],
   "source": [
    "print(model[0])\n",
    "model[0].weight"
   ]
  },
  {
   "cell_type": "markdown",
   "metadata": {},
   "source": [
    "You can also pass in an `OrderedDict` to name the individual layers and operations, instead of using incremental integers. Note that dictionary keys must be unique, so _each operation must have a different name_."
   ]
  },
  {
   "cell_type": "code",
   "execution_count": 43,
   "metadata": {},
   "outputs": [
    {
     "data": {
      "text/plain": [
       "Sequential(\n",
       "  (fc1): Linear(in_features=784, out_features=128, bias=True)\n",
       "  (relu1): ReLU()\n",
       "  (fc2): Linear(in_features=128, out_features=64, bias=True)\n",
       "  (relu2): ReLU()\n",
       "  (output): Linear(in_features=64, out_features=10, bias=True)\n",
       "  (softmax): Softmax(dim=1)\n",
       ")"
      ]
     },
     "execution_count": 43,
     "metadata": {},
     "output_type": "execute_result"
    }
   ],
   "source": [
    "from collections import OrderedDict\n",
    "model = nn.Sequential(OrderedDict([\n",
    "                      ('fc1', nn.Linear(input_size, hidden_sizes[0])),\n",
    "                      ('relu1', nn.ReLU()),\n",
    "                      ('fc2', nn.Linear(hidden_sizes[0], hidden_sizes[1])),\n",
    "                      ('relu2', nn.ReLU()),\n",
    "                      ('output', nn.Linear(hidden_sizes[1], output_size)),\n",
    "                      ('softmax', nn.Softmax(dim=1))]))\n",
    "model"
   ]
  },
  {
   "cell_type": "markdown",
   "metadata": {},
   "source": [
    "Now you can access layers either by integer or the name"
   ]
  },
  {
   "cell_type": "code",
   "execution_count": 44,
   "metadata": {},
   "outputs": [
    {
     "name": "stdout",
     "output_type": "stream",
     "text": [
      "Linear(in_features=784, out_features=128, bias=True)\n",
      "Linear(in_features=784, out_features=128, bias=True)\n"
     ]
    }
   ],
   "source": [
    "print(model[0])\n",
    "print(model.fc1)"
   ]
  },
  {
   "cell_type": "markdown",
   "metadata": {},
   "source": [
    "In the next notebook, we'll see how we can train a neural network to accuractly predict the numbers appearing in the MNIST images."
   ]
  }
 ],
 "metadata": {
  "kernelspec": {
   "display_name": "Python 3",
   "language": "python",
   "name": "python3"
  },
  "language_info": {
   "codemirror_mode": {
    "name": "ipython",
    "version": 3
   },
   "file_extension": ".py",
   "mimetype": "text/x-python",
   "name": "python",
   "nbconvert_exporter": "python",
   "pygments_lexer": "ipython3",
   "version": "3.8.5"
  }
 },
 "nbformat": 4,
 "nbformat_minor": 2
}
